{
  "nbformat": 4,
  "nbformat_minor": 0,
  "metadata": {
    "colab": {
      "name": "face_recognition_system",
      "version": "0.3.2",
      "provenance": [],
      "collapsed_sections": [],
      "include_colab_link": true
    },
    "kernelspec": {
      "name": "python3",
      "display_name": "Python 3"
    }
  },
  "cells": [
    {
      "cell_type": "markdown",
      "metadata": {
        "id": "view-in-github",
        "colab_type": "text"
      },
      "source": [
        "<a href=\"https://colab.research.google.com/github/Justabhi96/Detect_And_Extract_Table_From_Pdf/blob/master/face_recognition_system.ipynb\" target=\"_parent\"><img src=\"https://colab.research.google.com/assets/colab-badge.svg\" alt=\"Open In Colab\"/></a>"
      ]
    },
    {
      "cell_type": "code",
      "metadata": {
        "id": "eEE7N1FPQChp",
        "colab_type": "code",
        "colab": {}
      },
      "source": [
        "!pip install face_recognition"
      ],
      "execution_count": 0,
      "outputs": []
    },
    {
      "cell_type": "code",
      "metadata": {
        "id": "qCiHKwfGQnUw",
        "colab_type": "code",
        "colab": {}
      },
      "source": [
        "import cv2\n",
        "import face_recognition as fr\n",
        "from google.colab.patches import cv2_imshow\n",
        "import matplotlib.pyplot as plt\n",
        "import numpy as np\n",
        "import os\n",
        "import pickle"
      ],
      "execution_count": 0,
      "outputs": []
    },
    {
      "cell_type": "code",
      "metadata": {
        "id": "nJLxygwADrDG",
        "colab_type": "code",
        "colab": {}
      },
      "source": [
        "class face_recognition_system:\n",
        "  def __init__(self, pickle_file_name = \"face_encodings.pickle\"):\n",
        "    self.pickle_file_name = pickle_file_name\n",
        "    if os.path.exists(pickle_file_name):\n",
        "      if os.path.getsize(pickle_file_name) > 0:\n",
        "        with open(pickle_file_name, \"rb\") as face_encodings_pickle:\n",
        "          self.known_face_data = pickle.load(face_encodings_pickle)\n",
        "          self.known_face_encodings = [i[0] for i in self.known_face_data]\n",
        "          self.known_face_names = [i[1] for i in self.known_face_data]\n",
        "      else:\n",
        "        self.known_face_data = []\n",
        "        self.known_face_encodings, self.known_face_names = [],[]\n",
        "    else:\n",
        "      self.known_face_data = []\n",
        "      self.known_face_encodings, self.known_face_names = [],[]\n",
        "      with open(\"face_encodings.pickle\", \"wb\") as face_encodings_pickle:\n",
        "        pickle.dump([], face_encodings_pickle)\n",
        "  \n",
        "  def save_in_pickle(self, encoding_data):\n",
        "    \"\"\"Takes the encoding of new image, adds it in already known encodings and saves it in a pickle\"\"\"\n",
        "    \n",
        "    self.known_face_data.append(encoding_data)\n",
        "    with open(self.pickle_file_name, \"wb\") as known_face_pickle:\n",
        "      pickle.dump(self.known_face_data, known_face_pickle)\n",
        "    \n",
        "  def add_face(self, image_path, emp_name):\n",
        "    \"\"\"Adds a new employee face encoding to the known face encodings\"\"\"\n",
        "    \n",
        "    image_enc = fr.face_encodings(fr.load_image_file(image_path))[0]\n",
        "    self.save_in_pickle([image_enc, emp_name])\n",
        "    self.__init__(self.pickle_file_name)\n",
        "    \n",
        "  def recognize(self, image_path):\n",
        "    \"\"\"Matches the given face with the known face encodings and returns the employee name\"\"\"\n",
        "    \n",
        "    image = fr.load_image_file(image_path)\n",
        "    face_locations = fr.face_locations(image, model = \"cnn\")\n",
        "    images_encoding = fr.face_encodings(image, face_locations)\n",
        "    \n",
        "    for i in range(len(images_encoding)):\n",
        "      top, right, bottom, left = face_locations[i]\n",
        "      compare_results = fr.compare_faces(self.known_face_encodings, images_encoding[i], 0.5)\n",
        "      if True in compare_results:\n",
        "        index = compare_results.index(True)\n",
        "        emp_name = self.known_face_names[index]\n",
        "      else:\n",
        "        emp_name = \"Unknown\"\n",
        "      cv2.rectangle(image, (left, top), (right, bottom), color = (0, 0, 255), thickness = 5)\n",
        "      cv2.putText(image, emp_name, (left, bottom+30), cv2.FONT_HERSHEY_PLAIN, 2, (0, 255, 0), thickness = 2)\n",
        "    cv2_imshow(image)\n",
        "    \n",
        "  def detect_in_video(self, video_path):\n",
        "    video = cv2.VideoCapture(video_path)\n",
        "    fourcc = cv2.VideoWriter_fourcc(*\"XVID\")\n",
        "    out = cv2.VideoWriter('output.mp4', fourcc, 20.0, (640, 480))\n",
        "    process_frame = True\n",
        "    while True:\n",
        "      is_feed, frame = video.read()\n",
        "      if is_feed:\n",
        "        emp_names = []\n",
        "        if process_frame:\n",
        "          small_frame = cv2.resize(frame, (0,0), fx = 0.25, fy = 0.25)\n",
        "          rgb_small_frame = small_frame[:,:,::-1]\n",
        "\n",
        "          face_locations = fr.face_locations(rgb_small_frame, model = \"cnn\")\n",
        "          images_encoding = fr.face_encodings(rgb_small_frame, face_locations)\n",
        "\n",
        "          for i in range(len(images_encoding)):\n",
        "            top, right, bottom, left = face_locations[i]\n",
        "            compare_results = fr.compare_faces(self.known_face_encodings, images_encoding[i], 0.5)\n",
        "            if True in compare_results:\n",
        "              index = compare_results.index(True)\n",
        "              emp_name = self.known_face_names[index]\n",
        "            else:\n",
        "              emp_name = \"Unknown\"\n",
        "            emp_names.append(emp_name)\n",
        "\n",
        "        process_frame = not process_frame\n",
        "\n",
        "        for (top, right, bottom, left), name in zip(face_locations, emp_names):\n",
        "          top, right, bottom, left = [i*4 for i in (top, right, bottom, left)]\n",
        "\n",
        "          # Draw a box around the face\n",
        "          cv2.rectangle(frame, (left, top), (right, bottom), (0, 0, 255), 2)\n",
        "\n",
        "          # Draw a label with a name below the face\n",
        "          cv2.rectangle(frame, (left, bottom - 35), (right, bottom), (0, 0, 255), cv2.FILLED)\n",
        "          font = cv2.FONT_HERSHEY_DUPLEX\n",
        "          cv2.putText(frame, name, (left + 6, bottom - 6), font, 1.0, (255, 255, 255), 1)\n",
        "\n",
        "        out.write(frame)\n",
        "      else:\n",
        "        out.release()\n",
        "        break"
      ],
      "execution_count": 0,
      "outputs": []
    },
    {
      "cell_type": "code",
      "metadata": {
        "id": "AmOBaPiZIwQ9",
        "colab_type": "code",
        "colab": {}
      },
      "source": [
        "recognition_system = face_recognition_system()"
      ],
      "execution_count": 0,
      "outputs": []
    },
    {
      "cell_type": "code",
      "metadata": {
        "id": "7GpFWP2b4umy",
        "colab_type": "code",
        "colab": {}
      },
      "source": [
        "recognition_system.add_face(\"abhi.jpg\", \"Abhishek\")"
      ],
      "execution_count": 0,
      "outputs": []
    },
    {
      "cell_type": "code",
      "metadata": {
        "id": "X8OuFmQttrX8",
        "colab_type": "code",
        "colab": {}
      },
      "source": [
        "recognition_system.recognize(\"abhi2.jpg\")"
      ],
      "execution_count": 0,
      "outputs": []
    }
  ]
}